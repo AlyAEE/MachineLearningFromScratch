{
 "cells": [
  {
   "cell_type": "markdown",
   "id": "00135454-1b31-4c11-b144-cce6abdcf198",
   "metadata": {},
   "source": [
    "# Anomaly Detection Algorithm"
   ]
  },
  {
   "cell_type": "markdown",
   "id": "a7f829d3-3657-4132-81cf-ad2c811c6f7f",
   "metadata": {},
   "source": [
    "We will implement an anomaly detection algorithm to detect anomalous behavior in server computers.\n",
    "\n",
    "we will use a Gaussian model to detect anomalous examples in your dataset. "
   ]
  },
  {
   "cell_type": "markdown",
   "id": "6a1a38db-56eb-4cfb-9f3c-b47a0855bb7f",
   "metadata": {},
   "source": [
    "### 1-Gaussian distribution\n",
    "\n",
    "To perform anomaly detection, you will first need to fit a model to the data’s distribution.\n",
    "\n",
    "* Given a training set $\\{x^{(1)}, ..., x^{(m)}\\}$ you want to estimate the Gaussian distribution for each\n",
    "of the features $x_i$. \n",
    "\n",
    "* Gaussian distribution is given by\n",
    "\n",
    "   $$ p(x ; \\mu,\\sigma ^2) = \\frac{1}{\\sqrt{2 \\pi \\sigma ^2}}\\exp^{ - \\frac{(x - \\mu)^2}{2 \\sigma ^2} }$$\n",
    "\n",
    "   where $\\mu$ is the mean and $\\sigma^2$ is the variance.\n",
    "   \n",
    "* For each feature $i = 1\\ldots n$, you need to find parameters $\\mu_i$ and $\\sigma_i^2$ that fit the data in the $i$-th dimension $\\{x_i^{(1)}, ..., x_i^{(m)}\\}$ (the $i$-th dimension of each example)."
   ]
  },
  {
   "cell_type": "markdown",
   "id": "2f1cd8aa-cc5c-4862-b9e7-d00b3e3fe252",
   "metadata": {},
   "source": [
    "### Estimating parameters for a Gaussian distribution\n",
    "\n",
    "\n",
    "calculate `mu` (mean for each feature in `X`) and `var` (variance for each feature in `X`). \n",
    "\n",
    "You can estimate the parameters, ($\\mu_i$, $\\sigma_i^2$), of the $i$-th\n",
    "feature by using the following equations. To estimate the mean, you will\n",
    "use:\n",
    "\n",
    "$$\\mu_i = \\frac{1}{m} \\sum_{j=1}^m x_i^{(j)}$$\n",
    "\n",
    "and for the variance you will use:\n",
    "$$\\sigma_i^2 = \\frac{1}{m} \\sum_{j=1}^m (x_i^{(j)} - \\mu_i)^2$$\n",
    "\n"
   ]
  },
  {
   "cell_type": "code",
   "execution_count": 1,
   "id": "129bdcaa-e760-4812-b48c-8fdb1215e245",
   "metadata": {
    "tags": []
   },
   "outputs": [],
   "source": [
    "def estimate_gaussian(X): \n",
    "    \"\"\"\n",
    "    Calculates mean and variance of all features \n",
    "    in the dataset\n",
    "    \n",
    "    Args:\n",
    "        X (ndarray): (m, n) Data matrix\n",
    "    \n",
    "    Returns:\n",
    "        mu (ndarray): (n,) Mean of all features\n",
    "        var (ndarray): (n,) Variance of all features\n",
    "    \"\"\"\n",
    "\n",
    "    m, n = X.shape\n",
    "    \n",
    "    mu = np.sum(X, axis = 0) / m\n",
    "    var = np.sum((X - mu)**2, axis = 0) / m\n",
    "        \n",
    "    return mu, var"
   ]
  },
  {
   "cell_type": "markdown",
   "id": "e5cb54e3-4983-42f2-8fe9-3387de3e9b55",
   "metadata": {},
   "source": [
    "### 2- Selecting the threshold $\\epsilon$\n",
    "\n",
    "After estimating the Gaussian parameters, we can investigate which examples have a very high probability given this distribution and which examples have a very low probability.  \n",
    "\n",
    "* The low probability examples are more likely to be the anomalies in our dataset. \n",
    "* One way to determine which examples are anomalies is to select a threshold based on a cross validation set. \n",
    "\n",
    "we will compute the threshold $\\varepsilon$ using the $F_1$ score on a cross validation set.\n",
    "\n",
    "* For this, we will use a cross validation set\n",
    "$\\{(x_{\\rm cv}^{(1)}, y_{\\rm cv}^{(1)}),\\ldots, (x_{\\rm cv}^{(m_{\\rm cv})}, y_{\\rm cv}^{(m_{\\rm cv})})\\}$, where the label $y=1$ corresponds to an anomalous example, and $y=0$ corresponds to a normal example. \n",
    "* For each cross validation example, we will compute $p(x_{\\rm cv}^{(i)})$. The vector of all of these probabilities $p(x_{\\rm cv}^{(1)}), \\ldots, p(x_{\\rm cv}^{(m_{\\rm cv})})$ is passed to `select_threshold` in the vector `p_val`. \n",
    "* The corresponding labels $y_{\\rm cv}^{(1)}, \\ldots, y_{\\rm cv}^{(m_{\\rm cv})}$ are passed to the same function in the vector `y_val`."
   ]
  },
  {
   "cell_type": "markdown",
   "id": "0dc3f240-67b7-4593-b3d6-0c7dc36ce25d",
   "metadata": {
    "tags": []
   },
   "source": [
    "We will find the best threshold to use for selecting outliers based on the results from the validation set (`p_val`) and the ground truth (`y_val`). \n",
    "\n",
    "* we will implement a code to calculate the F1 score from choosing `epsilon` as the threshold and place the value in `F1`. \n",
    "\n",
    "        \n",
    "  * Then, you can compute precision and recall by: \n",
    "   $$\\begin{aligned}\n",
    "   prec&=&\\frac{tp}{tp+fp}\\\\\n",
    "   rec&=&\\frac{tp}{tp+fn},\n",
    "   \\end{aligned}$$ where\n",
    "    * $tp$ is the number of true positives: the ground truth label says it’s an anomaly and our algorithm correctly classified it as an anomaly.\n",
    "    * $fp$ is the number of false positives: the ground truth label says it’s not an anomaly, but our algorithm incorrectly classified it as an anomaly.\n",
    "    * $fn$ is the number of false negatives: the ground truth label says it’s an anomaly, but our algorithm incorrectly classified it as not being anomalous.\n",
    "\n",
    "  * The $F_1$ score is computed using precision ($prec$) and recall ($rec$) as follows:\n",
    "    $$F_1 = \\frac{2\\cdot prec \\cdot rec}{prec + rec}$$ "
   ]
  },
  {
   "cell_type": "code",
   "execution_count": 3,
   "id": "5f17051b-0cb2-435f-bea0-8ad65f030d92",
   "metadata": {
    "tags": []
   },
   "outputs": [],
   "source": [
    "def select_threshold(y_val, p_val): \n",
    "    \"\"\"\n",
    "    Finds the best threshold to use for selecting outliers \n",
    "    based on the results from a validation set (p_val) \n",
    "    and the ground truth (y_val)\n",
    "    \n",
    "    Args:\n",
    "        y_val (ndarray): Ground truth on validation set\n",
    "        p_val (ndarray): Results on validation set\n",
    "        \n",
    "    Returns:\n",
    "        epsilon (float): Threshold chosen \n",
    "        F1 (float):      F1 score by choosing epsilon as threshold\n",
    "    \"\"\" \n",
    "\n",
    "    best_epsilon = 0\n",
    "    best_F1 = 0\n",
    "    F1 = 0\n",
    "    \n",
    "    step_size = (max(p_val) - min(p_val)) / 1000\n",
    "    \n",
    "    for epsilon in np.arange(min(p_val), max(p_val), step_size):\n",
    "\n",
    "        tp = 0.0000000000000000000001\n",
    "        fp = 0.0000000000000000000001\n",
    "        fn = 0.0000000000000000000001\n",
    "        y_pred = [0 if p >= epsilon else 1 for p in p_val]  \n",
    "        \n",
    "        for y in range(len(y_val)):\n",
    "            if y_val[y] == 1 and y_pred[y] == 1:\n",
    "                tp += 1\n",
    "            if y_val[y] == 0 and y_pred[y] == 1:\n",
    "                fp +=1\n",
    "            if y_val[y] == 1 and y_pred[y] == 0:\n",
    "                fn +=1\n",
    "\n",
    "        prec = tp /(tp + fp)    \n",
    "        rec = tp /(tp + fn)\n",
    "        F1 = (2 * prec * rec) / (prec + rec)\n",
    "        \n",
    "        if F1 > best_F1:\n",
    "            best_F1 = F1\n",
    "            best_epsilon = epsilon\n",
    "        \n",
    "    return best_epsilon, best_F1"
   ]
  },
  {
   "cell_type": "code",
   "execution_count": null,
   "id": "3ef9cbbb-7555-48c3-a173-aacf1e5a49db",
   "metadata": {},
   "outputs": [],
   "source": [
    "p_val = multivariate_gaussian(X_val, mu, var)\n",
    "epsilon, F1 = select_threshold(y_val, p_val)\n",
    "\n",
    "print('Best epsilon found using cross-validation: %e' % epsilon)\n",
    "print('Best F1 on Cross Validation Set: %f' % F1)\n",
    "    \n",
    "# UNIT TEST\n",
    "select_threshold_test(select_threshold)"
   ]
  }
 ],
 "metadata": {
  "kernelspec": {
   "display_name": "Python 3 (ipykernel)",
   "language": "python",
   "name": "python3"
  },
  "language_info": {
   "codemirror_mode": {
    "name": "ipython",
    "version": 3
   },
   "file_extension": ".py",
   "mimetype": "text/x-python",
   "name": "python",
   "nbconvert_exporter": "python",
   "pygments_lexer": "ipython3",
   "version": "3.11.4"
  }
 },
 "nbformat": 4,
 "nbformat_minor": 5
}
